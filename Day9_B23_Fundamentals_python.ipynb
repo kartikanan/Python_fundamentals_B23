{
 "cells": [
  {
   "cell_type": "code",
   "execution_count": 1,
   "metadata": {},
   "outputs": [
    {
     "name": "stdout",
     "output_type": "stream",
     "text": [
      "may i know you name please:karthi\n",
      "karthi\n"
     ]
    }
   ],
   "source": [
    "#introduction input value\n",
    "message= input(\"may i know you name please:\")\n",
    "print(message)"
   ]
  },
  {
   "cell_type": "code",
   "execution_count": 2,
   "metadata": {},
   "outputs": [
    {
     "name": "stdout",
     "output_type": "stream",
     "text": [
      "may i know you name please:karthi\n",
      "welcom karthi\n"
     ]
    }
   ],
   "source": [
    "#passing some more messgaes\n",
    "message= input(\"may i know you name please:\")\n",
    "print( f\"welcom {message}\")"
   ]
  },
  {
   "cell_type": "code",
   "execution_count": 3,
   "metadata": {},
   "outputs": [
    {
     "name": "stdout",
     "output_type": "stream",
     "text": [
      "may i know you name please:Faiyaz\n",
      "\n",
      " Hello welcom Faiyaz\n"
     ]
    }
   ],
   "source": [
    "#passing some more messgaes\n",
    "message= input(\"may i know you name please:\")\n",
    "print( f\"\\n Hello welcom {message}\")"
   ]
  },
  {
   "cell_type": "code",
   "execution_count": 4,
   "metadata": {},
   "outputs": [
    {
     "name": "stdout",
     "output_type": "stream",
     "text": [
      "may i know you name please:babu\n",
      "\n",
      " Hello welcom Babu\n"
     ]
    }
   ],
   "source": [
    "#passing some more messgaes title()\n",
    "message= input(\"may i know you name please:\").title()\n",
    "print( f\"\\n Hello welcom {message}\")"
   ]
  },
  {
   "cell_type": "code",
   "execution_count": 6,
   "metadata": {},
   "outputs": [
    {
     "name": "stdout",
     "output_type": "stream",
     "text": [
      "may i know you name please:Karthi\n",
      "\n",
      " Hello welcom karthi\n"
     ]
    }
   ],
   "source": [
    "#passing some more messgaes title()\n",
    "message= input(\"may i know you name please:\").title()\n",
    "print( f\"\\n Hello welcom {message.lower()}\")"
   ]
  },
  {
   "cell_type": "code",
   "execution_count": 11,
   "metadata": {},
   "outputs": [
    {
     "name": "stdout",
     "output_type": "stream",
     "text": [
      "Enter your password if password match your new password will be shown \n",
      " thank you  1234\n",
      "your new password is Abcd@123\n"
     ]
    }
   ],
   "source": [
    "##passing prompt\n",
    "Prompt = \"Enter your password\"\n",
    "Prompt += \" if password match your new password will be shown \\n thank you  \"\n",
    "message = input(Prompt)\n",
    "if message == '1234':\n",
    "    print(\"your new password is Abcd@123\")\n",
    "else:\n",
    "    print(\"invalide password\")\n"
   ]
  },
  {
   "cell_type": "code",
   "execution_count": 14,
   "metadata": {},
   "outputs": [
    {
     "name": "stdout",
     "output_type": "stream",
     "text": [
      "Enter your password if password match your new password will be shown \n",
      " thank you  1234\n",
      "your new password is Abcd@123\n"
     ]
    }
   ],
   "source": [
    "###INPUT VALUES BY DEFAULT IT IS STRING  if you want to make it as integer  apply int(value passed in input)\n",
    "##passing prompt\n",
    "Prompt = \"Enter your password\"\n",
    "Prompt += \" if password match your new password will be shown \\n thank you  \"\n",
    "message = input(Prompt)\n",
    "if int(message) == 1234:  # convert string input to integer......\n",
    "    print(\"your new password is Abcd@123\")\n",
    "else:\n",
    "    print(\"invalide password\")"
   ]
  },
  {
   "cell_type": "code",
   "execution_count": null,
   "metadata": {},
   "outputs": [],
   "source": []
  }
 ],
 "metadata": {
  "kernelspec": {
   "display_name": "Python 3",
   "language": "python",
   "name": "python3"
  },
  "language_info": {
   "codemirror_mode": {
    "name": "ipython",
    "version": 3
   },
   "file_extension": ".py",
   "mimetype": "text/x-python",
   "name": "python",
   "nbconvert_exporter": "python",
   "pygments_lexer": "ipython3",
   "version": "3.7.6"
  }
 },
 "nbformat": 4,
 "nbformat_minor": 4
}

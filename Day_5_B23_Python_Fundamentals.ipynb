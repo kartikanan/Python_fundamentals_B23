{
 "cells": [
  {
   "cell_type": "code",
   "execution_count": 2,
   "metadata": {},
   "outputs": [],
   "source": [
    "# LOOPING CONCEPT IN PYTHON [ looping statement]\n",
    "# for Loop Concept \n",
    "\n",
    "#syntex\n",
    "#################################\n",
    "# for TEMP_VAR in MAIN_VAR:     #\n",
    "#   print(TEMP_VAR)             #\n",
    "#print(TEMP_VAR)  {indentation} #\n",
    "################################# \n"
   ]
  },
  {
   "cell_type": "code",
   "execution_count": 3,
   "metadata": {},
   "outputs": [],
   "source": [
    "Student=['arun','Karthi','kannan','ramkumar','hari']"
   ]
  },
  {
   "cell_type": "code",
   "execution_count": 7,
   "metadata": {},
   "outputs": [
    {
     "name": "stdout",
     "output_type": "stream",
     "text": [
      "arun\n",
      "Karthi\n",
      "kannan\n",
      "ramkumar\n",
      "hari\n"
     ]
    }
   ],
   "source": [
    "for val_info in Student:\n",
    "    print(val_info)"
   ]
  },
  {
   "cell_type": "code",
   "execution_count": 9,
   "metadata": {},
   "outputs": [
    {
     "name": "stdout",
     "output_type": "stream",
     "text": [
      "Arun\n",
      "Karthi\n",
      "Kannan\n",
      "Ramkumar\n",
      "Hari\n"
     ]
    }
   ],
   "source": [
    "for val_info in Student:\n",
    "    print(val_info.title())"
   ]
  },
  {
   "cell_type": "code",
   "execution_count": 13,
   "metadata": {},
   "outputs": [
    {
     "name": "stdout",
     "output_type": "stream",
     "text": [
      "Arun\n",
      "Karthi\n",
      "Kannan\n",
      "Ramkumar\n",
      "Hari\n",
      "thanks for the name list Hari\n"
     ]
    }
   ],
   "source": [
    "for val_info in Student:\n",
    "    print(val_info.title())\n",
    "print(f\"thanks for the name list {val_info.title()}\") #if loop statment completed it will pass las stored value  "
   ]
  },
  {
   "cell_type": "code",
   "execution_count": 19,
   "metadata": {},
   "outputs": [
    {
     "name": "stdout",
     "output_type": "stream",
     "text": [
      "Arun\n",
      "\n",
      "Karthi\n",
      "\n",
      "Kannan\n",
      "\n",
      "Ramkumar\n",
      "\n",
      "Hari\n",
      "\n",
      "thanks for the name list Hari.\n"
     ]
    }
   ],
   "source": [
    "for val_info in Student:   \n",
    "    print(f\"{val_info.title()}\\n\")  # adding new line \n",
    "print(f\"thanks for the name list {val_info.title()}.\") #if loop statment completed it will pass las stored value  "
   ]
  },
  {
   "cell_type": "code",
   "execution_count": null,
   "metadata": {},
   "outputs": [],
   "source": [
    "for val_info in Student:\n",
    "    print(f\"{val_info.title()}\\n\")  # adding new line \n",
    "print(f\"thanks for the name list {val_info.title()}.\") #if loop statment completed it will pass las stored value  "
   ]
  },
  {
   "cell_type": "code",
   "execution_count": 20,
   "metadata": {},
   "outputs": [],
   "source": [
    "#####Introduction to  Organising the list ######\n",
    "# 2 possible way we can do that \n",
    "\n",
    "# sorted   [temp]\n",
    "#sort()   [permanent]"
   ]
  },
  {
   "cell_type": "code",
   "execution_count": 21,
   "metadata": {},
   "outputs": [],
   "source": [
    "student_list=['sam','thiru','mani','anbu', 'priya']"
   ]
  },
  {
   "cell_type": "code",
   "execution_count": 22,
   "metadata": {},
   "outputs": [
    {
     "name": "stdout",
     "output_type": "stream",
     "text": [
      "['anbu', 'mani', 'priya', 'sam', 'thiru']\n"
     ]
    }
   ],
   "source": [
    "print(sorted(student_list))"
   ]
  },
  {
   "cell_type": "code",
   "execution_count": 23,
   "metadata": {},
   "outputs": [
    {
     "name": "stdout",
     "output_type": "stream",
     "text": [
      "['sam', 'thiru', 'mani', 'anbu', 'priya']\n"
     ]
    }
   ],
   "source": [
    "print(student_list)"
   ]
  },
  {
   "cell_type": "code",
   "execution_count": 24,
   "metadata": {},
   "outputs": [],
   "source": [
    "student_list.sort()"
   ]
  },
  {
   "cell_type": "code",
   "execution_count": 26,
   "metadata": {},
   "outputs": [
    {
     "name": "stdout",
     "output_type": "stream",
     "text": [
      "['anbu', 'mani', 'priya', 'sam', 'thiru']\n"
     ]
    }
   ],
   "source": [
    "print(student_list)"
   ]
  },
  {
   "cell_type": "code",
   "execution_count": null,
   "metadata": {},
   "outputs": [],
   "source": []
  }
 ],
 "metadata": {
  "kernelspec": {
   "display_name": "Python 3",
   "language": "python",
   "name": "python3"
  },
  "language_info": {
   "codemirror_mode": {
    "name": "ipython",
    "version": 3
   },
   "file_extension": ".py",
   "mimetype": "text/x-python",
   "name": "python",
   "nbconvert_exporter": "python",
   "pygments_lexer": "ipython3",
   "version": "3.7.6"
  }
 },
 "nbformat": 4,
 "nbformat_minor": 4
}

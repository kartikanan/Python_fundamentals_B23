{
 "cells": [
  {
   "cell_type": "code",
   "execution_count": null,
   "metadata": {},
   "outputs": [],
   "source": [
    "###Python functions introductions #####\n",
    "* understanding the concept of code reuseability\n",
    "* code is written and read millions of times\n",
    "\" we have to ensure that we are writting a reusable code \""
   ]
  },
  {
   "cell_type": "code",
   "execution_count": 7,
   "metadata": {},
   "outputs": [],
   "source": [
    "### How to define a functions in python:\n",
    "#'def' --- all small letters only \n",
    "#its key word using in python to define a funcitions in python.\n",
    "\n",
    "# wrie a functions in python greeting a users\n",
    "def user_greet():\n",
    "    '''creating function to greet the user'''\n",
    "    print(\"hello welcome to show\")"
   ]
  },
  {
   "cell_type": "code",
   "execution_count": 11,
   "metadata": {},
   "outputs": [
    {
     "ename": "TypeError",
     "evalue": "user_greet() takes 0 positional arguments but 1 was given",
     "output_type": "error",
     "traceback": [
      "\u001b[1;31m---------------------------------------------------------------------------\u001b[0m",
      "\u001b[1;31mTypeError\u001b[0m                                 Traceback (most recent call last)",
      "\u001b[1;32m<ipython-input-11-fc7a293b425c>\u001b[0m in \u001b[0;36m<module>\u001b[1;34m\u001b[0m\n\u001b[1;32m----> 1\u001b[1;33m \u001b[0mprint\u001b[0m\u001b[1;33m(\u001b[0m\u001b[0muser_greet\u001b[0m\u001b[1;33m(\u001b[0m\u001b[1;34m'karthi'\u001b[0m\u001b[1;33m)\u001b[0m\u001b[1;33m)\u001b[0m\u001b[1;33m\u001b[0m\u001b[1;33m\u001b[0m\u001b[0m\n\u001b[0m",
      "\u001b[1;31mTypeError\u001b[0m: user_greet() takes 0 positional arguments but 1 was given"
     ]
    }
   ],
   "source": [
    "print(user_greet('karthi'))"
   ]
  },
  {
   "cell_type": "code",
   "execution_count": 10,
   "metadata": {},
   "outputs": [
    {
     "name": "stdout",
     "output_type": "stream",
     "text": [
      "hello welcome to show\n",
      "None\n"
     ]
    }
   ],
   "source": [
    "print(user_greet())"
   ]
  },
  {
   "cell_type": "code",
   "execution_count": 20,
   "metadata": {},
   "outputs": [],
   "source": [
    "def user_greet(usr_name):\n",
    "    '''creating function to greet the user'''\n",
    "    print(f\"hello welcome to show {usr_name}\")  ### defining a function......\n",
    "    \n",
    "### def -----------------------------------------------defining a function  [ other or caps will fails]\n",
    "### user_greet ----------------------------------------is a function name\n",
    "### (usr_name) ----------------------------------------is a argument passing while calling a finction \n",
    "### print(f\"hello welcome to show {usr_name}\") -------- is function execution with agr valu\n",
    "\n",
    "########## user_greet(usr_name)  calling a function"
   ]
  },
  {
   "cell_type": "code",
   "execution_count": 21,
   "metadata": {},
   "outputs": [
    {
     "name": "stdout",
     "output_type": "stream",
     "text": [
      "hello welcome to show karthi\n"
     ]
    }
   ],
   "source": [
    "user_greet('karthi')"
   ]
  },
  {
   "cell_type": "code",
   "execution_count": 22,
   "metadata": {},
   "outputs": [],
   "source": [
    "#####  passing more than one agr\n",
    "def user_greet(usr_name, usr_place):\n",
    "    '''creating function to greet the user'''\n",
    "    print(f\"hello welcome to show {usr_name} from {usr_place}\")\n"
   ]
  },
  {
   "cell_type": "code",
   "execution_count": 25,
   "metadata": {},
   "outputs": [
    {
     "name": "stdout",
     "output_type": "stream",
     "text": [
      "hello welcome to show Karthi from SALEM\n"
     ]
    }
   ],
   "source": [
    "user_greet('karthi', 'salem')"
   ]
  },
  {
   "cell_type": "code",
   "execution_count": 24,
   "metadata": {},
   "outputs": [],
   "source": [
    "#####  passing more than one agr\n",
    "def user_greet(usr_name, usr_place):\n",
    "    '''creating function to greet the user'''\n",
    "    print(f\"hello welcome to show {usr_name.title()} from {usr_place.upper()}\")"
   ]
  },
  {
   "cell_type": "code",
   "execution_count": null,
   "metadata": {},
   "outputs": [],
   "source": []
  }
 ],
 "metadata": {
  "kernelspec": {
   "display_name": "Python 3",
   "language": "python",
   "name": "python3"
  },
  "language_info": {
   "codemirror_mode": {
    "name": "ipython",
    "version": 3
   },
   "file_extension": ".py",
   "mimetype": "text/x-python",
   "name": "python",
   "nbconvert_exporter": "python",
   "pygments_lexer": "ipython3",
   "version": "3.7.6"
  }
 },
 "nbformat": 4,
 "nbformat_minor": 4
}

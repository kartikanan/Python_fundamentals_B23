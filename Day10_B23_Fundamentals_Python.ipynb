{
 "cells": [
  {
   "cell_type": "code",
   "execution_count": 1,
   "metadata": {},
   "outputs": [],
   "source": [
    "## Introduction to While Loops:\n",
    "#While loop will validate the certain conditions to implement"
   ]
  },
  {
   "cell_type": "code",
   "execution_count": 2,
   "metadata": {},
   "outputs": [
    {
     "name": "stdout",
     "output_type": "stream",
     "text": [
      " Execution number is 1\n",
      " Execution number is 2\n",
      " Execution number is 3\n",
      " Execution number is 4\n",
      " Execution number is 5\n",
      " Execution number is 6\n",
      " Execution number is 7\n",
      " Execution number is 8\n",
      " Execution number is 9\n",
      " Execution number is 10\n"
     ]
    }
   ],
   "source": [
    "##basic while loop\n",
    "current_val =1\n",
    "while current_val <= 10:\n",
    "    print(f\" Execution number is {current_val}\")\n",
    "    current_val +=1"
   ]
  },
  {
   "cell_type": "code",
   "execution_count": 3,
   "metadata": {},
   "outputs": [
    {
     "name": "stdout",
     "output_type": "stream",
     "text": [
      " Enter the value you want to start excute4\n",
      " Execution number is 4\n",
      " Execution number is 5\n",
      " Execution number is 6\n",
      " Execution number is 7\n",
      " Execution number is 8\n",
      " Execution number is 9\n",
      " Execution number is 10\n"
     ]
    }
   ],
   "source": [
    "##basic while loop\n",
    "current_val = int(input(\" Enter the value you want to start excute\")) # execution start value from example 4\n",
    "while current_val <= 10:\n",
    "    print(f\" Execution number is {current_val}\")\n",
    "    current_val +=1"
   ]
  },
  {
   "cell_type": "code",
   "execution_count": 6,
   "metadata": {},
   "outputs": [
    {
     "name": "stdout",
     "output_type": "stream",
     "text": [
      "enter somthing to display a message you want to pass\n",
      " message may somthing not personal and if you want to quiet pass 'NA'\n",
      " Thank you  NA\n"
     ]
    }
   ],
   "source": [
    "##Letting  User to quiet based on the input values\n",
    "Prompt = \"enter somthing to display a message you want to pass\"\n",
    "Prompt += \"\\n message may somthing not personal and if you want to quiet pass 'NA'\"\n",
    "Prompt +=\"\\n Thank you  \"\n",
    "\n",
    "user_input = input(Prompt)\n",
    "while user_input != 'NA': # implementing somthing to quite the while loop\n",
    "    print(user_input)\n"
   ]
  },
  {
   "cell_type": "code",
   "execution_count": null,
   "metadata": {},
   "outputs": [],
   "source": [
    "Diff btw for loop and while loop \n",
    "#implement to each element in the list  [1,2,3,4,5]\n",
    "# while loop it condition holds true it execute else quit"
   ]
  },
  {
   "cell_type": "code",
   "execution_count": 20,
   "metadata": {},
   "outputs": [
    {
     "name": "stdout",
     "output_type": "stream",
     "text": [
      "enter the s.no 1\n",
      "enter the sequence5\n"
     ]
    }
   ],
   "source": [
    "## multiple while loop condition \n",
    "user_input_1= int(input(\"enter the s.no \"))\n",
    "user_input_2 = int(input(\"enter the sequence\"))\n",
    "while user_input_1 <=10  and user_input_2 != 5: # implementing somthing to quite the while loop\n",
    "    print(f\"{user_input_1} with valide {user_input_2}\")\n",
    "    user_input_1 +=1\n",
    "    if user_input_1 >=5 :\n",
    "        user_input_2 +=1\n",
    "    else:\n",
    "        user_input_2"
   ]
  },
  {
   "cell_type": "code",
   "execution_count": 21,
   "metadata": {},
   "outputs": [
    {
     "name": "stdout",
     "output_type": "stream",
     "text": [
      "enter the s.no 1\n",
      "enter the sequence2\n",
      "1 with valide 2\n",
      "2 with valide 2\n",
      "3 with valide 2\n",
      "4 with valide 2\n",
      "5 with valide 3\n",
      "6 with valide 4\n"
     ]
    }
   ],
   "source": [
    "## multiple while loop condition \n",
    "user_input_1= int(input(\"enter the s.no \"))\n",
    "user_input_2 = int(input(\"enter the sequence\"))\n",
    "while user_input_1 <=10  and user_input_2 != 5: # implementing somthing to quite the while loop\n",
    "    print(f\"{user_input_1} with valide {user_input_2}\")\n",
    "    user_input_1 +=1\n",
    "    if user_input_1 >=5 :\n",
    "        user_input_2 +=1\n",
    "    else:\n",
    "        user_input_2"
   ]
  },
  {
   "cell_type": "code",
   "execution_count": 22,
   "metadata": {},
   "outputs": [
    {
     "name": "stdout",
     "output_type": "stream",
     "text": [
      "enter the s.no 1\n",
      "enter the sequence1\n",
      "1 with valide 1\n",
      "2 with valide 1\n",
      "3 with valide 1\n",
      "4 with valide 1\n",
      "5 with valide 2\n",
      "6 with valide 3\n",
      "7 with valide 4\n",
      "8 with valide 5\n"
     ]
    }
   ],
   "source": [
    "## multiple while loop condition \n",
    "user_input_1= int(input(\"enter the s.no \"))\n",
    "user_input_2 = int(input(\"enter the sequence\"))\n",
    "while user_input_1 <=10  and user_input_2 <= 5: # implementing somthing to quite the while loop\n",
    "    print(f\"{user_input_1} with valide {user_input_2}\")\n",
    "    user_input_1 +=1\n",
    "    if user_input_1 >=5 :\n",
    "        user_input_2 +=1\n",
    "    else:\n",
    "        user_input_2"
   ]
  },
  {
   "cell_type": "code",
   "execution_count": null,
   "metadata": {},
   "outputs": [],
   "source": []
  }
 ],
 "metadata": {
  "kernelspec": {
   "display_name": "Python 3",
   "language": "python",
   "name": "python3"
  },
  "language_info": {
   "codemirror_mode": {
    "name": "ipython",
    "version": 3
   },
   "file_extension": ".py",
   "mimetype": "text/x-python",
   "name": "python",
   "nbconvert_exporter": "python",
   "pygments_lexer": "ipython3",
   "version": "3.7.6"
  }
 },
 "nbformat": 4,
 "nbformat_minor": 4
}
